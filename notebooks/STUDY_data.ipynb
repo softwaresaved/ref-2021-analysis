{
 "cells": [
  {
   "cell_type": "markdown",
   "metadata": {},
   "source": [
    "## Preliminary study of the REF 2021 submissions data"
   ]
  },
  {
   "cell_type": "code",
   "execution_count": 1,
   "metadata": {},
   "outputs": [
    {
     "name": "stdout",
     "output_type": "stream",
     "text": [
      "Imported ../data/raw/REF-2021-Submissions-All-2022-07-27.xlsx\n",
      "Datasets\n",
      "- Outputs\n",
      "- ImpactCaseStudies\n",
      "- ResearchDoctoralDegreesAwarded\n",
      "- ResearchIncome\n",
      "- ResearchIncomeInKind\n",
      "- ResearchGroups\n",
      "- InstitutionCovid19Statements\n"
     ]
    }
   ],
   "source": [
    "# import the necessary packages\n",
    "import sys\n",
    "import pandas as pd\n",
    "import importlib\n",
    "\n",
    "# set the path to the source directory\n",
    "sys.path.append('../src/')\n",
    "import read_write as rw\n",
    "\n",
    "# set to True to print details of the processing\n",
    "verbose = True\n",
    "\n",
    "# import the excel file with the REF 2021 submissions\n",
    "dobj = rw.import_excel(verbose=True)"
   ]
  },
  {
   "cell_type": "code",
   "execution_count": null,
   "metadata": {},
   "outputs": [],
   "source": []
  }
 ],
 "metadata": {
  "kernelspec": {
   "display_name": "VPython",
   "language": "python",
   "name": "vpython"
  },
  "language_info": {
   "codemirror_mode": {
    "name": "ipython",
    "version": 3
   },
   "file_extension": ".py",
   "mimetype": "text/x-python",
   "name": "python",
   "nbconvert_exporter": "python",
   "pygments_lexer": "ipython3",
   "version": "3.7.9"
  },
  "orig_nbformat": 4
 },
 "nbformat": 4,
 "nbformat_minor": 2
}
