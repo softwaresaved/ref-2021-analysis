{
 "cells": [
  {
   "cell_type": "markdown",
   "metadata": {},
   "source": [
    "## Preliminary study of the REF 2021 submissions data"
   ]
  },
  {
   "cell_type": "code",
   "execution_count": 1,
   "metadata": {},
   "outputs": [],
   "source": [
    "import sys\n",
    "import pandas as pd\n",
    "import importlib\n",
    "\n",
    "# set the path to the source directory\n",
    "sys.path.append('../src/')\n",
    "import read_write as rw\n",
    "import visualisations as vis\n",
    "import codebook as cb\n",
    "\n",
    "# set to True to print details of the processing\n",
    "verbose = True"
   ]
  },
  {
   "cell_type": "markdown",
   "metadata": {},
   "source": [
    "## Explore the `Outputs` table"
   ]
  },
  {
   "cell_type": "code",
   "execution_count": 7,
   "metadata": {},
   "outputs": [
    {
     "name": "stdout",
     "output_type": "stream",
     "text": [
      "Read ../data/raw/extracted/Outputs.csv\n",
      "Pre-processed dataset to \n",
      "- add names to panels and output types\n",
      "- replace missing values with 'Not specified - PP ADDED'\n",
      "Saved pre-processed dataset to ../data/processed/extracted/Outputs_pprocessed.csv\n",
      "\n",
      "Records      : 185354\n",
      "Institutions : 158\n",
      "Output types : 22\n",
      "Panels       : 5\n",
      "UOA          : 35\n",
      "\n",
      "                                      Records  Records (%)\n",
      "Output type name                                          \n",
      "Journal article                        154826    83.529894\n",
      "Authored book                           11801     6.366736\n",
      "Chapter in book                          9475     5.111840\n",
      "Conference contribution                  2272     1.225763\n",
      "Edited book                              2135     1.151850\n",
      "Other                                    1146     0.618276\n",
      "Exhibition                                751     0.405171\n",
      "Research report for external body         431     0.232528\n",
      "Composition                               430     0.231989\n",
      "Working paper                             390     0.210408\n",
      "Artefact                                  378     0.203934\n",
      "Digital or visual media                   360     0.194223\n",
      "Scholarly edition                         329     0.177498\n",
      "Performance                               312     0.168327\n",
      "Design                                    119     0.064201\n",
      "Website content                            67     0.036147\n",
      "Translation                                38     0.020501\n",
      "Patent/ published patent application       37     0.019962\n",
      "Research data sets and databases           31     0.016725\n",
      "Devices and products                       14     0.007553\n",
      "Software                                   11     0.005935\n",
      "Not specified - PP ADDED                    1     0.000540\n",
      "\n",
      "Saved 'software' subset to ../data/processed/subsets/Outputs_software.csv\n"
     ]
    }
   ],
   "source": [
    "sheet_name = \"Outputs\"\n",
    "infname = f\"{rw.RAW_EXTRACTED_PATH}{sheet_name}.csv\"\n",
    "dset = pd.read_csv(infname, index_col=None, dtype={0: str})\n",
    "\n",
    "# pre-processing\n",
    "# --------------\n",
    "dset = dset.fillna(cb.VALUE_ADDED_NOT_SPECIFIED)\n",
    "\n",
    "# assign names where we only have codes\n",
    "# -------------------------------------\n",
    "dset[cb.COL_PANEL_NAME] = dset[cb.COL_PANEL_CODE].map(cb.PANEL_NAMES)\n",
    "dset[cb.COL_OUTPUT_TYPE_NAME] = dset[cb.COL_OUTPUT_TYPE_CODE].map(cb.OUTPUT_TYPE_NAMES)\n",
    "\n",
    "# save pre-processed data\n",
    "# -----------------------\n",
    "outfname = f\"{rw.PROCESSSED_EXTRACTED_PATH}{sheet_name}_pprocessed.csv\"\n",
    "dset.to_csv(outfname)\n",
    "\n",
    "if verbose:\n",
    "    print(f\"Read {infname}\")\n",
    "    print(f\"Pre-processed dataset to \")\n",
    "    print(f\"- replace missing values with '{cb.VALUE_ADDED_NOT_SPECIFIED}'\")\n",
    "    print(f\"- add names to panels and output types\")\n",
    "    print(f\"Saved pre-processed dataset to {outfname}\")\n",
    "\n",
    "# print overall statistics\n",
    "# ------------------------\n",
    "print()\n",
    "print(f\"Records      : {dset.shape[0]}\")\n",
    "print(f\"Institutions : {dset[cb.COL_INST_NAME].nunique()}\")\n",
    "print(f\"Output types : {dset[cb.COL_OUTPUT_TYPE_NAME].nunique()}\")\n",
    "print(f\"Panels       : {dset[cb.COL_PANEL_NAME].nunique()}\")\n",
    "print(f\"UOA          : {dset[cb.COL_UOA_NAME].nunique()}\")\n",
    "\n",
    "vis.calculate_and_visualise_counts(dset, \n",
    "                                   cb.COL_OUTPUT_TYPE_NAME,\n",
    "                                   do_print=True,\n",
    "                                   do_plot=None)\n",
    "\n",
    "# select and save software outputs\n",
    "target_output_type = \"Software\"\n",
    "fname_suffix = f\"{target_output_type.lower()}\"\n",
    "outfname = f\"{rw.PROCESSSED_SUBSETS_PATH}{sheet_name}_{fname_suffix}.csv\"\n",
    "dset[dset[cb.COL_OUTPUT_TYPE_NAME] == target_output_type].to_csv(outfname)\n",
    "\n",
    "if verbose:\n",
    "    print()\n",
    "    print(f\"Saved '{fname_suffix}' subset to {outfname}\")   "
   ]
  },
  {
   "cell_type": "markdown",
   "metadata": {},
   "source": [
    "## Explore the `ImpactCaseStudies` table"
   ]
  },
  {
   "cell_type": "code",
   "execution_count": 21,
   "metadata": {},
   "outputs": [
    {
     "name": "stdout",
     "output_type": "stream",
     "text": [
      "Read ../data/raw/extracted/ImpactCaseStudies.csv\n",
      "Pre-processed dataset to \n",
      "- replace missing values with 'Not specified - PP ADDED'\n",
      "- shift columns from title to the left\n",
      "- add names to panels and output types\n",
      "Saved pre-processed dataset to ../data/processed/extracted/ImpactCaseStudies_pprocessed.csv\n",
      "\n",
      "Records      : 6362\n",
      "Institutions : 156\n",
      "Panels       : 4\n",
      "UOA          : 35\n"
     ]
    }
   ],
   "source": [
    "importlib.reload(cb)\n",
    "\n",
    "sheet_name = \"ImpactCaseStudies\"\n",
    "\n",
    "infname = f\"{rw.RAW_EXTRACTED_PATH}{sheet_name}.csv\"\n",
    "dset = pd.read_csv(infname, index_col=None, dtype={0: str})\n",
    "\n",
    "# pre-processing\n",
    "# --------------\n",
    "dset = dset.fillna(cb.VALUE_ADDED_NOT_SPECIFIED)\n",
    "# shift columns from title to the left\n",
    "columns = dset.columns.tolist()\n",
    "dset = dset.drop(cb.COL_IMPACT_TITLE, axis=1)\n",
    "dset.columns = columns[:-1]\n",
    "\n",
    "# assign names where we only have codes\n",
    "# -------------------------------------\n",
    "dset[cb.COL_PANEL_NAME] = dset[cb.COL_PANEL_CODE].map(cb.PANEL_NAMES)\n",
    "\n",
    "# save pre-processed data\n",
    "# -----------------------\n",
    "outfname = f\"{rw.PROCESSSED_EXTRACTED_PATH}{sheet_name}_pprocessed.csv\"\n",
    "dset.to_csv(outfname)\n",
    "\n",
    "if verbose:\n",
    "    print(f\"Read {infname}\")\n",
    "    print(f\"Pre-processed dataset to \")\n",
    "    print(f\"- replace missing values with '{cb.VALUE_ADDED_NOT_SPECIFIED}'\")\n",
    "    print(f\"- shift columns from title to the left\")\n",
    "    print(f\"- add names to panels and output types\")\n",
    "    print(f\"Saved pre-processed dataset to {outfname}\")\n",
    "\n",
    "# print overall statistics\n",
    "# ------------------------\n",
    "print()\n",
    "print(f\"Records      : {dset.shape[0]}\")\n",
    "print(f\"Institutions : {dset[cb.COL_INST_NAME].nunique()}\")\n",
    "print(f\"Panels       : {dset[cb.COL_PANEL_NAME].nunique()}\")\n",
    "print(f\"UOA          : {dset[cb.COL_UOA_NAME].nunique()}\")"
   ]
  },
  {
   "cell_type": "markdown",
   "metadata": {},
   "source": [
    "## Explore the `ResearchGroups` table"
   ]
  },
  {
   "cell_type": "code",
   "execution_count": 8,
   "metadata": {},
   "outputs": [
    {
     "name": "stdout",
     "output_type": "stream",
     "text": [
      "Read ../data/raw/extracted/ResearchGroups.csv\n",
      "Pre-processed dataset to \n",
      "- add names to panels\n",
      "- replace missing values with 'Not specified - PP ADDED'\n",
      "Saved pre-processed dataset to ../data/processed/extracted/ResearchGroups_pprocessed.csv\n",
      "\n",
      "Records      : 2036\n",
      "Institutions : 83\n",
      "RGs          : 1788\n",
      "RG types     : 32\n",
      "Panels       : 4\n",
      "UOA          : 34\n"
     ]
    }
   ],
   "source": [
    "sheet_name = \"ResearchGroups\"\n",
    "\n",
    "infname = f\"{rw.RAW_EXTRACTED_PATH}{sheet_name}.csv\"\n",
    "dset = pd.read_csv(infname, index_col=None, dtype={0: str})\n",
    "\n",
    "# pre-processing\n",
    "# --------------\n",
    "dset = dset.fillna(cb.VALUE_ADDED_NOT_SPECIFIED)\n",
    "\n",
    "# assign names where we only have codes\n",
    "# -------------------------------------\n",
    "dset[cb.COL_PANEL_NAME] = dset[cb.COL_PANEL_CODE].map(cb.PANEL_NAMES)\n",
    "\n",
    "# save pre-processed data\n",
    "# -----------------------\n",
    "outfname = f\"{rw.PROCESSSED_EXTRACTED_PATH}{sheet_name}_pprocessed.csv\"\n",
    "dset.to_csv(outfname)\n",
    "\n",
    "if verbose:\n",
    "    print(f\"Read {infname}\")\n",
    "    print(f\"Pre-processed dataset to \")\n",
    "    print(f\"- replace missing values with '{cb.VALUE_ADDED_NOT_SPECIFIED}'\")\n",
    "    print(f\"- add names to panels\")\n",
    "    print(f\"Saved pre-processed dataset to {outfname}\")\n",
    "\n",
    "# some info about the data\n",
    "print()\n",
    "print(f\"Records      : {dset.shape[0]}\")\n",
    "print(f\"Institutions : {dset[cb.COL_INST_NAME].nunique()}\")\n",
    "print(f\"RGs          : {dset[cb.COL_RG_NAME].nunique()}\")\n",
    "print(f\"RG types     : {dset[cb.COL_RG_CODE].nunique()}\")\n",
    "print(f\"Panels       : {dset[cb.COL_PANEL_NAME].nunique()}\")\n",
    "print(f\"UOA          : {dset[cb.COL_UOA_NAME].nunique()}\")\n"
   ]
  },
  {
   "cell_type": "code",
   "execution_count": null,
   "metadata": {},
   "outputs": [],
   "source": []
  }
 ],
 "metadata": {
  "kernelspec": {
   "display_name": "VPython",
   "language": "python",
   "name": "vpython"
  },
  "language_info": {
   "codemirror_mode": {
    "name": "ipython",
    "version": 3
   },
   "file_extension": ".py",
   "mimetype": "text/x-python",
   "name": "python",
   "nbconvert_exporter": "python",
   "pygments_lexer": "ipython3",
   "version": "3.7.9"
  },
  "orig_nbformat": 4
 },
 "nbformat": 4,
 "nbformat_minor": 2
}
