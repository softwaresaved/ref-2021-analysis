{
 "cells": [
  {
   "cell_type": "markdown",
   "metadata": {},
   "source": [
    "## Preliminary study of the REF 2021 submissions data"
   ]
  },
  {
   "cell_type": "code",
   "execution_count": 1,
   "metadata": {},
   "outputs": [],
   "source": [
    "import sys\n",
    "import pandas as pd\n",
    "\n",
    "# set the path to the source directory\n",
    "sys.path.append('../src/')\n",
    "import read_write as rw\n",
    "import codebook as cb\n",
    "\n",
    "# set to True to print details of the processing\n",
    "verbose = True"
   ]
  },
  {
   "cell_type": "markdown",
   "metadata": {},
   "source": [
    "## Explore the `Outputs` table"
   ]
  },
  {
   "cell_type": "code",
   "execution_count": 7,
   "metadata": {},
   "outputs": [
    {
     "name": "stdout",
     "output_type": "stream",
     "text": [
      "Read ../data/raw/extracted/Outputs.csv\n"
     ]
    }
   ],
   "source": [
    "sheet_name = \"Outputs\"\n",
    "\n",
    "fname = f\"{rw.RAW_EXTRACTED_PATH}{sheet_name}.csv\"\n",
    "dset = pd.read_csv(fname, index_col=None, dtype={0: str})\n",
    "if verbose:\n",
    "    print(f\"Read {fname}\")\n"
   ]
  },
  {
   "cell_type": "markdown",
   "metadata": {},
   "source": [
    "## Explore the `ResearchGroups` table"
   ]
  },
  {
   "cell_type": "code",
   "execution_count": 6,
   "metadata": {},
   "outputs": [
    {
     "name": "stdout",
     "output_type": "stream",
     "text": [
      "Read ../data/raw/extracted/ResearchGroups.csv\n",
      "\n",
      "Processed the data to\n",
      "- drop ['Multiple submission letter', 'Multiple submission name', 'Joint submission']\n",
      "\n",
      "Data validated : True\n",
      "\n",
      "Records      : 2036\n",
      "Panels       : 4\n",
      "UOA          : 34\n",
      "RG types     : 32\n",
      "Institutions : 83\n",
      "RG groups    : 1788\n",
      "\n",
      "Submissions by panel split by UOA\n",
      "---------------------------------\n",
      "\n",
      "Panel A : Medicine, health and life sciences\n",
      "                                                            Submissions\n",
      "Unit of assessment name                                                \n",
      "Allied Health Professions, Dentistry, Nursing and Pharmacy          214\n",
      "Psychology, Psychiatry and Neuroscience                             119\n",
      "Biological Sciences                                                 105\n",
      "Clinical Medicine                                                    95\n",
      "Public Health, Health Services and Primary Care                      57\n",
      "Agriculture, Food and Veterinary Sciences                            41\n",
      "\n",
      "Panel B : Physical sciences, engineering and mathematics\n",
      "                                          Submissions\n",
      "Unit of assessment name                              \n",
      "Engineering                                       188\n",
      "Computer Science and Informatics                  140\n",
      "Mathematical Sciences                             130\n",
      "Physics                                           102\n",
      "Chemistry                                          64\n",
      "Earth Systems and Environmental Sciences           56\n",
      "\n",
      "Panel C : Social sciences\n",
      "                                                  Submissions\n",
      "Unit of assessment name                                      \n",
      "Business and Management Studies                           109\n",
      "Geography and Environmental Studies                        61\n",
      "Social Work and Social Policy                              57\n",
      "Sport and Exercise Sciences, Leisure and Tourism           57\n",
      "Education                                                  52\n",
      "Politics and International Studies                         36\n",
      "Law                                                        28\n",
      "Sociology                                                  19\n",
      "Architecture, Built Environment and Planning               17\n",
      "Economics and Econometrics                                 15\n",
      "Archaeology                                                11\n",
      "Anthropology and Development Studies                        9\n",
      "\n",
      "Panel D : Arts and humanities\n",
      "                                                                               Submissions\n",
      "Unit of assessment name                                                                   \n",
      "Art and Design: History, Practice and Theory                                            80\n",
      "Music, Drama, Dance, Performing Arts, Film and Screen Studies                           34\n",
      "English Language and Literature                                                         31\n",
      "Communication, Cultural and Media Studies, Library and Information Management           27\n",
      "Area Studies                                                                            18\n",
      "History                                                                                 17\n",
      "Modern Languages and Linguistics                                                        15\n",
      "Theology and Religious Studies                                                          14\n",
      "Philosophy                                                                              12\n",
      "Classics                                                                                 6\n"
     ]
    }
   ],
   "source": [
    "sheet_name = \"ResearchGroups\"\n",
    "columns_to_drop = ['Multiple submission letter', \n",
    "                   'Multiple submission name', \n",
    "                   'Joint submission']\n",
    "\n",
    "fname = f\"{rw.RAW_EXTRACTED_PATH}{sheet_name}.csv\"\n",
    "dset = pd.read_csv(fname, index_col=None, dtype={0: str})\n",
    "if verbose:\n",
    "    print(f\"Read {fname}\")\n",
    "\n",
    "dset.drop(columns_to_drop, axis=1, inplace=True)\n",
    "\n",
    "if verbose:\n",
    "    print()\n",
    "    print(\"Processed the data to\")\n",
    "    print(f\"- drop {columns_to_drop}\")\n",
    "    print()\n",
    "\n",
    "# get counts of unique values\n",
    "n_records = dset.shape[0]\n",
    "n_panels = len(dset[cb.COL_PANEL_CODE].unique())\n",
    "n_uoa_numbers = len(dset[cb.COL_UOA_NUMBER].unique())\n",
    "n_uoa_names = len(dset[cb.COL_UOA_NAME].unique())\n",
    "n_inst_codes = len(dset[cb.COL_INST_CODE].unique())\n",
    "n_inst_names = len(dset[cb.COL_INST_NAME].unique())\n",
    "n_rg_codes = len(dset[cb.COL_RG_CODE].unique())\n",
    "n_rg_names = len(dset[cb.COL_RG_NAME].unique())\n",
    "\n",
    "# simple validation\n",
    "validated = True\n",
    "errors = []\n",
    "if n_inst_codes != n_inst_names:\n",
    "    errors.append(\n",
    "        f\"number of institution codes ({n_inst_codes}) \"\n",
    "        f\"does not match number of institution names ({n_inst_names})\"\n",
    "    )\n",
    "    validated = False\n",
    "if n_uoa_numbers != n_uoa_names:\n",
    "    errors.append(\n",
    "        f\"number of UOA codes ({n_uoa_numbers}) \"\n",
    "        f\"does not match number of UOA names ({n_uoa_names})\"\n",
    "    )\n",
    "    validated = False\n",
    "\n",
    "print(f\"Data validated : {validated}\")\n",
    "if not validated:\n",
    "    print(\"ERRORS:\")\n",
    "    for error in errors:\n",
    "        print(f\"- {error}\")\n",
    "\n",
    "\n",
    "# some info about the data\n",
    "print()\n",
    "print(f\"Records      : {n_records}\")\n",
    "print(f\"Panels       : {n_panels}\")\n",
    "print(f\"UOA          : {n_uoa_numbers}\")\n",
    "print(f\"RG types     : {n_rg_codes}\")\n",
    "print(f\"Institutions : {n_inst_codes}\")\n",
    "print(f\"RG groups    : {n_rg_names}\")\n",
    "\n",
    "# assign the panel names\n",
    "dset[cb.COL_PANEL_NAME] = dset[cb.COL_PANEL_CODE].map(cb.PANEL_NAMES)\n",
    "\n",
    "print()\n",
    "print(\"Submissions by panel split by UOA\")\n",
    "print(\"---------------------------------\")\n",
    "for key, value in cb.PANEL_NAMES.items():\n",
    "    print(f\"\\nPanel {key} : {value}\")\n",
    "    dset_stats = dset[dset[cb.COL_PANEL_CODE] == key]\\\n",
    "        .value_counts(cb.COL_UOA_NAME).to_frame(name='Submissions')\n",
    "    print(dset_stats.to_string())"
   ]
  },
  {
   "cell_type": "code",
   "execution_count": null,
   "metadata": {},
   "outputs": [],
   "source": []
  }
 ],
 "metadata": {
  "kernelspec": {
   "display_name": "VPython",
   "language": "python",
   "name": "vpython"
  },
  "language_info": {
   "codemirror_mode": {
    "name": "ipython",
    "version": 3
   },
   "file_extension": ".py",
   "mimetype": "text/x-python",
   "name": "python",
   "nbconvert_exporter": "python",
   "pygments_lexer": "ipython3",
   "version": "3.7.9"
  },
  "orig_nbformat": 4
 },
 "nbformat": 4,
 "nbformat_minor": 2
}
