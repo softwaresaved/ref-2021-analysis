{
 "cells": [
  {
   "cell_type": "markdown",
   "metadata": {},
   "source": [
    "# Exploratory study of the REF 2021 submission data"
   ]
  },
  {
   "cell_type": "code",
   "execution_count": 6,
   "metadata": {},
   "outputs": [],
   "source": [
    "import os\n",
    "import sys\n",
    "import pandas as pd\n",
    "\n",
    "sys.path.append('../src/')\n",
    "import codebook as cb\n",
    "import read_write as rw\n",
    "import visualisations as vis"
   ]
  },
  {
   "cell_type": "code",
   "execution_count": 7,
   "metadata": {},
   "outputs": [
    {
     "name": "stdout",
     "output_type": "stream",
     "text": [
      "Read data/processed/ImpactCaseStudies_ppreprocessed.csv.gz: 6362 records\n",
      "Selected 74 records\n"
     ]
    }
   ],
   "source": [
    "fname = rw.DATA_PPROC_IMPACTS\n",
    "dset = pd.read_csv(os.path.join(rw.PROJECT_PATH, fname),\n",
    "                   index_col=None,\n",
    "                   dtype={0: str})\n",
    "print(f\"Read {fname}: {dset.shape[0]} records\")\n",
    "\n",
    "# for column in [cb.COL_OUTPUT_TYPE_NAME, cb.COL_OPEN_ACCESS]:\n",
    "#     vis.calculate_and_visualise_counts(dset, column)\n",
    "\n",
    "# select and save the records that contain software-related terms defined by root in title\n",
    "dset_selected = pd.DataFrame()\n",
    "for column in [cb.COL_IMPACT_TITLE, cb.COL_IMPACT_SUMMARY]:\n",
    "    for term in cb.TERMS_SOFTWARE_RELATED_ROOTS:\n",
    "        dset_selected = dset_selected.append(dset[dset[column].str.contains(term)])\n",
    "    dset_selected = dset_selected.drop_duplicates(subset=[column])\n",
    "print(f\"Selected {dset_selected.shape[0]} records\")\n",
    "\n"
   ]
  },
  {
   "cell_type": "code",
   "execution_count": 3,
   "metadata": {},
   "outputs": [
    {
     "name": "stdout",
     "output_type": "stream",
     "text": [
      "Index(['Institution UKPRN code', 'Institution name', 'Main panel',\n",
      "       'Unit of assessment number', 'Unit of assessment name',\n",
      "       'Multiple submission letter', 'Multiple submission name',\n",
      "       'Joint submission', 'Title', 'Is continued from 2014', 'Countries',\n",
      "       'Formal partners', 'Funding programmes', 'Global research identifiers',\n",
      "       'Name of funders', 'Researcher ORCIDs', 'Grant funding',\n",
      "       '1. Summary of the impact', '2. Underpinning research',\n",
      "       '3. References to the research', '4. Details of the impact',\n",
      "       '5. Sources to corroborate the impact', 'Main panel name'],\n",
      "      dtype='object')\n"
     ]
    }
   ],
   "source": [
    "print(dset.columns)"
   ]
  },
  {
   "cell_type": "code",
   "execution_count": null,
   "metadata": {},
   "outputs": [],
   "source": []
  }
 ],
 "metadata": {
  "kernelspec": {
   "display_name": "VPython",
   "language": "python",
   "name": "vpython"
  },
  "language_info": {
   "codemirror_mode": {
    "name": "ipython",
    "version": 3
   },
   "file_extension": ".py",
   "mimetype": "text/x-python",
   "name": "python",
   "nbconvert_exporter": "python",
   "pygments_lexer": "ipython3",
   "version": "3.7.9"
  },
  "orig_nbformat": 4
 },
 "nbformat": 4,
 "nbformat_minor": 2
}
