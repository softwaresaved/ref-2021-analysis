{
 "cells": [
  {
   "cell_type": "markdown",
   "metadata": {},
   "source": [
    "## Preprocessing of the REF 2021 submissions data"
   ]
  },
  {
   "cell_type": "code",
   "execution_count": 1,
   "metadata": {},
   "outputs": [],
   "source": [
    "import sys\n",
    "import pandas as pd\n",
    "import importlib\n",
    "\n",
    "# set the path to the source directory\n",
    "sys.path.append('../src/')\n",
    "import read_write as rw\n",
    "import visualisations as vis\n",
    "import codebook as cb\n",
    "import preprocess as pp\n",
    "\n",
    "# set to True to print details of the processing\n",
    "verbose = True"
   ]
  },
  {
   "cell_type": "markdown",
   "metadata": {},
   "source": [
    "## Preprocess the `Outputs` table"
   ]
  },
  {
   "cell_type": "code",
   "execution_count": 5,
   "metadata": {},
   "outputs": [
    {
     "ename": "NameError",
     "evalue": "name 'fname_suffix' is not defined",
     "output_type": "error",
     "traceback": [
      "\u001b[0;31m---------------------------------------------------------------------------\u001b[0m",
      "\u001b[0;31mNameError\u001b[0m                                 Traceback (most recent call last)",
      "\u001b[0;32m<ipython-input-5-f138cbf58c88>\u001b[0m in \u001b[0;36m<module>\u001b[0;34m\u001b[0m\n\u001b[1;32m     25\u001b[0m \u001b[0mtarget_output_type\u001b[0m \u001b[0;34m=\u001b[0m \u001b[0;34m\"Software\"\u001b[0m\u001b[0;34m\u001b[0m\u001b[0;34m\u001b[0m\u001b[0m\n\u001b[1;32m     26\u001b[0m \u001b[0mfsuffix\u001b[0m \u001b[0;34m=\u001b[0m \u001b[0;34mf\"{target_output_type.lower()}\"\u001b[0m\u001b[0;34m\u001b[0m\u001b[0;34m\u001b[0m\u001b[0m\n\u001b[0;32m---> 27\u001b[0;31m \u001b[0moutfname\u001b[0m \u001b[0;34m=\u001b[0m \u001b[0;34mf\"{rw.PROCESSSED_SUBSETS_PATH}{sname}_{fname_suffix}.csv\"\u001b[0m\u001b[0;34m\u001b[0m\u001b[0;34m\u001b[0m\u001b[0m\n\u001b[0m\u001b[1;32m     28\u001b[0m \u001b[0mdset\u001b[0m\u001b[0;34m[\u001b[0m\u001b[0mdset\u001b[0m\u001b[0;34m[\u001b[0m\u001b[0mcb\u001b[0m\u001b[0;34m.\u001b[0m\u001b[0mCOL_OUTPUT_TYPE_NAME\u001b[0m\u001b[0;34m]\u001b[0m \u001b[0;34m==\u001b[0m \u001b[0mtarget_output_type\u001b[0m\u001b[0;34m]\u001b[0m\u001b[0;34m.\u001b[0m\u001b[0mto_csv\u001b[0m\u001b[0;34m(\u001b[0m\u001b[0mfname\u001b[0m\u001b[0;34m)\u001b[0m\u001b[0;34m\u001b[0m\u001b[0;34m\u001b[0m\u001b[0m\n\u001b[1;32m     29\u001b[0m \u001b[0mvtext\u001b[0m \u001b[0;34m+=\u001b[0m \u001b[0;34mf\"\\nSaved '{fsuffix}' subset to {fname}\"\u001b[0m\u001b[0;34m\u001b[0m\u001b[0;34m\u001b[0m\u001b[0m\n",
      "\u001b[0;31mNameError\u001b[0m: name 'fname_suffix' is not defined"
     ]
    }
   ],
   "source": [
    "sname = \"Outputs\"\n",
    "fname = f\"{rw.RAW_EXTRACTED_PATH}{sname}.csv\"\n",
    "dset = pd.read_csv(fname, index_col=None, dtype={0: str})\n",
    "vtext = f\"\\nRead {fname}\"\n",
    "\n",
    "# pre-processing\n",
    "# --------------\n",
    "vtext += f\"\\nPre-processed dataset to\"\n",
    "dset = dset.fillna(cb.VALUE_ADDED_NOT_SPECIFIED)\n",
    "vtext += f\"\\n- replace missing values with '{cb.VALUE_ADDED_NOT_SPECIFIED}'\"\n",
    "\n",
    "# assign names where we only have codes\n",
    "# -------------------------------------\n",
    "dset[cb.COL_PANEL_NAME] = dset[cb.COL_PANEL_CODE].map(cb.PANEL_NAMES)\n",
    "dset[cb.COL_OUTPUT_TYPE_NAME] = dset[cb.COL_OUTPUT_TYPE_CODE].map(cb.OUTPUT_TYPE_NAMES)\n",
    "vtext += f\"\\n- add names to panels and output types\"\n",
    "\n",
    "# save pre-processed data\n",
    "# -----------------------\n",
    "fname = f\"{rw.PROCESSSED_EXTRACTED_PATH}{sname}_pprocessed.csv\"\n",
    "dset.to_csv(fname)\n",
    "vtext += f\"\\nSaved pre-processed dataset to {fname}\"\n",
    "\n",
    "# select and save software outputs\n",
    "target_output_type = \"Software\"\n",
    "fsuffix = f\"{target_output_type.lower()}\"\n",
    "outfname = f\"{rw.PROCESSSED_SUBSETS_PATH}{sname}_{fsuffix}.csv\"\n",
    "dset[dset[cb.COL_OUTPUT_TYPE_NAME] == target_output_type].to_csv(fname)\n",
    "vtext += f\"\\nSaved '{fsuffix}' subset to {fname}\"\n",
    "\n",
    "if verbose:\n",
    "    print(vtext)\n",
    "\n",
    "# print overall statistics\n",
    "# ------------------------\n",
    "print()\n",
    "print(f\"Output records : {dset.shape[0]}\")\n",
    "print(f\"Institutions   : {dset[cb.COL_INST_NAME].nunique()}\")\n",
    "print(f\"Output types   : {dset[cb.COL_OUTPUT_TYPE_NAME].nunique()}\")\n",
    "print(f\"Panels         : {dset[cb.COL_PANEL_NAME].nunique()}\")\n",
    "print(f\"UOA            : {dset[cb.COL_UOA_NAME].nunique()}\")"
   ]
  },
  {
   "cell_type": "markdown",
   "metadata": {},
   "source": [
    "## Preprocess the `ImpactCaseStudies` table"
   ]
  },
  {
   "cell_type": "code",
   "execution_count": null,
   "metadata": {},
   "outputs": [],
   "source": [
    "importlib.reload(cb)\n",
    "importlib.reload(pp)\n",
    "\n",
    "sheet_name = \"ImpactCaseStudies\"\n",
    "\n",
    "infname = f\"{rw.RAW_EXTRACTED_PATH}{sheet_name}.csv\"\n",
    "dset = pd.read_csv(infname, index_col=None, dtype={0: str})\n",
    "\n",
    "# pre-processing\n",
    "# --------------\n",
    "dset = dset.fillna(cb.VALUE_ADDED_NOT_SPECIFIED)\n",
    "# shift columns from title to the left\n",
    "columns = dset.columns.tolist()\n",
    "dset = dset.drop(cb.COL_IMPACT_TITLE, axis=1)\n",
    "dset.columns = columns[:-1]\n",
    "# replace markdown in summary column\n",
    "for column in [cb.COL_IMPACT_SUMMARY, \n",
    "               cb.COL_IMPACT_UNDERPIN_RESEARCH,\n",
    "               cb.COL_IMPACT_REFERENCES_RESEARCH,\n",
    "               cb.COL_IMPACT_DETAILS,\n",
    "               cb.COL_IMPACT_CORROBORATE\n",
    "               ]:\n",
    "    dset = pp.clean_markdown(dset, column)\n",
    "\n",
    "# assign names where we only have codes\n",
    "# -------------------------------------\n",
    "dset[cb.COL_PANEL_NAME] = dset[cb.COL_PANEL_CODE].map(cb.PANEL_NAMES)\n",
    "\n",
    "# save pre-processed data\n",
    "# -----------------------\n",
    "outfname = f\"{rw.PROCESSSED_EXTRACTED_PATH}{sheet_name}_pprocessed.csv\"\n",
    "dset.to_csv(outfname)\n",
    "\n",
    "if verbose:\n",
    "    print(f\"Read {infname}\")\n",
    "    print(f\"Pre-processed dataset to \")\n",
    "    print(f\"- replace missing values with '{cb.VALUE_ADDED_NOT_SPECIFIED}'\")\n",
    "    print(f\"- shift columns from title to the left to fix data issue\")\n",
    "    print(f\"- replace markdown in text columns\"\")\n",
    "    print(f\"- add names to panels and output types\")\n",
    "    print(f\"Saved pre-processed dataset to {outfname}\")\n",
    "\n",
    "# print overall statistics\n",
    "# ------------------------\n",
    "print()\n",
    "print(f\"Records      : {dset.shape[0]}\")\n",
    "print(f\"Institutions : {dset[cb.COL_INST_NAME].nunique()}\")\n",
    "print(f\"Panels       : {dset[cb.COL_PANEL_NAME].nunique()}\")\n",
    "print(f\"UOA          : {dset[cb.COL_UOA_NAME].nunique()}\")"
   ]
  },
  {
   "cell_type": "markdown",
   "metadata": {},
   "source": [
    "## Preprocess the `ResearchGroups` table"
   ]
  },
  {
   "cell_type": "code",
   "execution_count": null,
   "metadata": {},
   "outputs": [],
   "source": [
    "sheet_name = \"ResearchGroups\"\n",
    "\n",
    "infname = f\"{rw.RAW_EXTRACTED_PATH}{sheet_name}.csv\"\n",
    "dset = pd.read_csv(infname, index_col=None, dtype={0: str})\n",
    "\n",
    "# pre-processing\n",
    "# --------------\n",
    "dset = dset.fillna(cb.VALUE_ADDED_NOT_SPECIFIED)\n",
    "\n",
    "# assign names where we only have codes\n",
    "# -------------------------------------\n",
    "dset[cb.COL_PANEL_NAME] = dset[cb.COL_PANEL_CODE].map(cb.PANEL_NAMES)\n",
    "\n",
    "# save pre-processed data\n",
    "# -----------------------\n",
    "outfname = f\"{rw.PROCESSSED_EXTRACTED_PATH}{sheet_name}_pprocessed.csv\"\n",
    "dset.to_csv(outfname)\n",
    "\n",
    "if verbose:\n",
    "    print(f\"Read {infname}\")\n",
    "    print(f\"Pre-processed dataset to \")\n",
    "    print(f\"- replace missing values with '{cb.VALUE_ADDED_NOT_SPECIFIED}'\")\n",
    "    print(f\"- add names to panels\")\n",
    "    print(f\"Saved pre-processed dataset to {outfname}\")\n",
    "\n",
    "# some info about the data\n",
    "print()\n",
    "print(f\"Records      : {dset.shape[0]}\")\n",
    "print(f\"Institutions : {dset[cb.COL_INST_NAME].nunique()}\")\n",
    "print(f\"RGs          : {dset[cb.COL_RG_NAME].nunique()}\")\n",
    "print(f\"RG types     : {dset[cb.COL_RG_CODE].nunique()}\")\n",
    "print(f\"Panels       : {dset[cb.COL_PANEL_NAME].nunique()}\")\n",
    "print(f\"UOA          : {dset[cb.COL_UOA_NAME].nunique()}\")\n"
   ]
  },
  {
   "cell_type": "code",
   "execution_count": null,
   "metadata": {},
   "outputs": [],
   "source": []
  }
 ],
 "metadata": {
  "kernelspec": {
   "display_name": "VPython",
   "language": "python",
   "name": "vpython"
  },
  "language_info": {
   "codemirror_mode": {
    "name": "ipython",
    "version": 3
   },
   "file_extension": ".py",
   "mimetype": "text/x-python",
   "name": "python",
   "nbconvert_exporter": "python",
   "pygments_lexer": "ipython3",
   "version": "3.7.9"
  },
  "orig_nbformat": 4
 },
 "nbformat": 4,
 "nbformat_minor": 2
}
